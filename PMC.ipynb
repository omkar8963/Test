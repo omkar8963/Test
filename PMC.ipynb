{
  "nbformat": 4,
  "nbformat_minor": 0,
  "metadata": {
    "kernelspec": {
      "display_name": "Python 3",
      "language": "python",
      "name": "python3"
    },
    "language_info": {
      "codemirror_mode": {
        "name": "ipython",
        "version": 3
      },
      "file_extension": ".py",
      "mimetype": "text/x-python",
      "name": "python",
      "nbconvert_exporter": "python",
      "pygments_lexer": "ipython3",
      "version": "3.5.6"
    },
    "colab": {
      "name": "PMC.ipynb",
      "provenance": [],
      "collapsed_sections": [],
      "include_colab_link": true
    }
  },
  "cells": [
    {
      "cell_type": "markdown",
      "metadata": {
        "id": "view-in-github",
        "colab_type": "text"
      },
      "source": [
        "<a href=\"https://colab.research.google.com/github/omkar8963/Test/blob/master/PMC.ipynb\" target=\"_parent\"><img src=\"https://colab.research.google.com/assets/colab-badge.svg\" alt=\"Open In Colab\"/></a>"
      ]
    },
    {
      "cell_type": "markdown",
      "metadata": {
        "id": "jvmRcDBZ7G8o",
        "colab_type": "text"
      },
      "source": [
        "# Python Mini Challenges\n",
        "\n",
        "The most entertaining(and satisfying) way to improve your skills in a programming language is by doing challenges. Every challenge that is given in this assessment module can be solved by a bit of python programming and logical thinking.\n",
        "\n",
        "Some challenges may look easy,some may look tough but we hope you solve them all with the same vigour.\n",
        "\n",
        "All the best."
      ]
    },
    {
      "cell_type": "markdown",
      "metadata": {
        "id": "w-7yo2dB7G8q",
        "colab_type": "text"
      },
      "source": [
        "# Challenge 1: Smallest Palindrome\n",
        "\n",
        "\n",
        "Create a function called `palindrome(num)` that given a number `'num'`, finds the next smallest palindrome and returns it\n",
        "\n",
        "For eg:\n",
        "***\n",
        "**Input**\n",
        "\n",
        "```python\n",
        "palindrome(123)\n",
        "```\n",
        "\n",
        "**Output**\n",
        "```python\n",
        "131\n",
        "```\n",
        "***\n",
        "**Input**\n",
        "\n",
        "```python\n",
        "palindrome(1331)\n",
        "```\n",
        "\n",
        "**Output**\n",
        "```python\n",
        "1441\n",
        "```\n"
      ]
    },
    {
      "cell_type": "code",
      "metadata": {
        "id": "ZlbMn96n7G8s",
        "colab_type": "code",
        "colab": {}
      },
      "source": [
        "#Code starts her\n",
        "#Code ends here        "
      ],
      "execution_count": 0,
      "outputs": []
    },
    {
      "cell_type": "markdown",
      "metadata": {
        "id": "3AP5zboI7G8w",
        "colab_type": "text"
      },
      "source": [
        "# Challenge 2: Anagram Scramble\n",
        "\n",
        "Create a function called `'a_scramble(str_1, str_2)'` that given the strings`'str_1'`,`'str_2'` returns `True` if a portion of `'str_1'` characters can be scrambled to match `'str2'`, else return `False`\n",
        "\n",
        "For eg:\n",
        "***\n",
        "**Input**\n",
        "\n",
        "```python\n",
        "a_scramble(\"Tom Marvolo Riddle\",\"Voldemort\")\n",
        "```\n",
        "\n",
        "**Output**\n",
        "```python\n",
        "True\n",
        "```\n",
        "***\n",
        "**Input**\n",
        "\n",
        "```python\n",
        "a_scramble(\"ticket\",\"chat\")\n",
        "```\n",
        "\n",
        "**Output**\n",
        "```python\n",
        "False\n",
        "```\n"
      ]
    },
    {
      "cell_type": "code",
      "metadata": {
        "id": "qxmh8R6F7G8x",
        "colab_type": "code",
        "colab": {}
      },
      "source": [
        "#Code starts here\n",
        "\n",
        "\n",
        "#Code ends here"
      ],
      "execution_count": 0,
      "outputs": []
    },
    {
      "cell_type": "markdown",
      "metadata": {
        "id": "bWIV_XVJ7G80",
        "colab_type": "text"
      },
      "source": [
        "# Challenge 3: Fibonacci Check\n",
        "\n",
        "Create a function called `check_fib(num)` that checks if the given number `'num'` is part of the [fibonacci sequence](https://en.wikipedia.org/wiki/Fibonacci_number) and returns `True` if it is, else `False`\n",
        "\n",
        "For eg:\n",
        "***\n",
        "**Input**\n",
        "\n",
        "```python\n",
        "check_fib(145)\n",
        "```\n",
        "\n",
        "**Output**\n",
        "```python\n",
        "False\n",
        "```\n",
        "***\n",
        "**Input**\n",
        "\n",
        "```python\n",
        "check_fib(377)\n",
        "```\n",
        "\n",
        "**Output**\n",
        "```python\n",
        "True\n",
        "```\n",
        "\n",
        "\n"
      ]
    },
    {
      "cell_type": "code",
      "metadata": {
        "id": "9vAYqvH27G80",
        "colab_type": "code",
        "outputId": "0e9b9024-df6b-4666-8bca-70ed6cb8ab0d",
        "colab": {
          "base_uri": "https://localhost:8080/",
          "height": 129
        }
      },
      "source": [
        "#Importing header files\n",
        "from math import sqrt\n",
        "#Code starts here\n",
        "def isPerfSq(x): \n",
        "     s = int(math.sqrt(x)) \n",
        "    return s*s == x \n",
        "\n",
        "def check_fib(n):\n",
        "  return isPerfSq(5*n*n + 4) or isPerfSq(5*n*n - 4)\n",
        "\n",
        "check_fib(377)\n",
        "      \n",
        "#Code ends here"
      ],
      "execution_count": 0,
      "outputs": [
        {
          "output_type": "error",
          "ename": "IndentationError",
          "evalue": "ignored",
          "traceback": [
            "\u001b[0;36m  File \u001b[0;32m\"<ipython-input-53-80f1954964ca>\"\u001b[0;36m, line \u001b[0;32m5\u001b[0m\n\u001b[0;31m    return s*s == x\u001b[0m\n\u001b[0m                    ^\u001b[0m\n\u001b[0;31mIndentationError\u001b[0m\u001b[0;31m:\u001b[0m unindent does not match any outer indentation level\n"
          ]
        }
      ]
    },
    {
      "cell_type": "markdown",
      "metadata": {
        "id": "D3OTvzWR7G83",
        "colab_type": "text"
      },
      "source": [
        "# Challenge 4: String Compression\n",
        "\n",
        "Write a function `compress(word)` that given a word `word` returns the string with it's letters and how many times they occur continously together.\n",
        "\n",
        "For eg:\n",
        "\n",
        "***\n",
        "**Input**\n",
        "\n",
        "```python\n",
        "a_scramble(\"abbs\")\n",
        "```\n",
        "\n",
        "**Output**\n",
        "```python\n",
        "\"a1b2s1\"\n",
        "```\n",
        "Explanation: 1 occurence of `a`, followed by 2 occurences of `b`, followed by 1 occurence of `s`\n",
        "***\n",
        "**Input**\n",
        "\n",
        "```python\n",
        "compress(\"xxcccdex\")\n",
        "```\n",
        "\n",
        "**Output**\n",
        "```python\n",
        "\"x2c3d1e1x1\"\n",
        "```\n",
        "\n",
        "Explanation: 2 occurences of `x`, followed by 3 occurences of `c`, followed by 1 occurence of `d`, followed by 1 occurence of `e`, followed by 1 occurence of `x`"
      ]
    },
    {
      "cell_type": "code",
      "metadata": {
        "id": "0A4yWSxb7G84",
        "colab_type": "code",
        "outputId": "0ce0abdc-8855-43e5-c83d-7de266624a5f",
        "colab": {
          "base_uri": "https://localhost:8080/",
          "height": 34
        }
      },
      "source": [
        "#Code starts here\n",
        "def compress(s):\n",
        "    r = \"\"  #resultant string\n",
        "    l = len(s) #length of string\n",
        "    \n",
        "    \n",
        "    if l == 0:  #if len is 0 then return nothing\n",
        "        return \"\"\n",
        "    if l == 1:  # if len is 1 then append 1 with string\n",
        "        return s + \"1\"\n",
        "    \n",
        "    count = 1  # default  occurence count is 1\n",
        "    i = 1\n",
        "    \n",
        "    while i < l:\n",
        "        if s[i] == s[i-1]:\n",
        "            count += 1\n",
        "        else:\n",
        "            r = r + s[i-1] + str(count)\n",
        "            count = 1\n",
        "        i += 1\n",
        "    r = r + s[i -1] + str(count)\n",
        "    return r\n",
        "\n",
        "compress(\"abbs\")            \n",
        "\n",
        "#Code ends here"
      ],
      "execution_count": 0,
      "outputs": [
        {
          "output_type": "execute_result",
          "data": {
            "text/plain": [
              "'a1b2s1'"
            ]
          },
          "metadata": {
            "tags": []
          },
          "execution_count": 22
        }
      ]
    },
    {
      "cell_type": "markdown",
      "metadata": {
        "id": "unvIFvyv7G86",
        "colab_type": "text"
      },
      "source": [
        "# Challenge 5: K-Distinct\n",
        "\n",
        "Write a function `k_distinct(string,k)` that given a string `'string'` and number `'k'`, it checks whether the `'string'` has `'k'` distinct characters\n",
        "\n",
        "For eg:\n",
        "***\n",
        "**Input**\n",
        "\n",
        "```python\n",
        "k_distinct('Messoptamia',8)\n",
        "```\n",
        "\n",
        "**Output**\n",
        "```python\n",
        "True\n",
        "```\n",
        "***\n",
        "**Input**\n",
        "\n",
        "```python\n",
        "k_distinct('banana',4)\n",
        "```\n",
        "\n",
        "**Output**\n",
        "```python\n",
        "False\n",
        "```\n"
      ]
    },
    {
      "cell_type": "code",
      "metadata": {
        "id": "mJ-4IOtM7G87",
        "colab_type": "code",
        "outputId": "6085274a-6c9a-4e2b-8f8f-8d9d3ab92989",
        "colab": {
          "base_uri": "https://localhost:8080/",
          "height": 51
        }
      },
      "source": [
        "#Code starts here\n",
        "def k_distinct(string,k):\n",
        "    unique = []\n",
        "    for char in string[::]:\n",
        "        if char not in unique:\n",
        "            unique.append(char)\n",
        "    \n",
        "    if k==len(unique):\n",
        "       return True\n",
        "    else:\n",
        "      return False\n",
        "\n",
        "\n",
        "print(k_distinct(\"abcd\",4))    \n",
        "print(k_distinct(\"mesopatamia\",8))            \n",
        "\n",
        "#Code ends here"
      ],
      "execution_count": 0,
      "outputs": [
        {
          "output_type": "stream",
          "text": [
            "True\n",
            "True\n"
          ],
          "name": "stdout"
        }
      ]
    }
  ]
}